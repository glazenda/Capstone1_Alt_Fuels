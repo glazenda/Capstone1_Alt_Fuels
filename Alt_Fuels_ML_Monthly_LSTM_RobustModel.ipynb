{
 "cells": [
  {
   "cell_type": "code",
   "execution_count": 162,
   "metadata": {},
   "outputs": [
    {
     "name": "stdout",
     "output_type": "stream",
     "text": [
      "Populating the interactive namespace from numpy and matplotlib\n"
     ]
    },
    {
     "name": "stderr",
     "output_type": "stream",
     "text": [
      "/anaconda3/lib/python3.7/site-packages/IPython/core/magics/pylab.py:160: UserWarning: pylab import has clobbered these variables: ['test', 'sqrt', 'datetime']\n",
      "`%matplotlib` prevents importing * from pylab and numpy\n",
      "  \"\\n`%matplotlib` prevents importing * from pylab and numpy\"\n"
     ]
    }
   ],
   "source": [
    "# import packages and libraries\n",
    "import seaborn as sns\n",
    "import numpy as np\n",
    "import pandas as pd\n",
    "import matplotlib.pyplot as plt\n",
    "from datetime import datetime\n",
    "import shapefile as shp\n",
    "import re\n",
    "import json\n",
    "import requests\n",
    "import warnings\n",
    "import geopandas as gpd\n",
    "import scipy.stats as stats\n",
    "import string\n",
    "from pygeocoder import Geocoder\n",
    "from collections import defaultdict\n",
    "from collections import OrderedDict\n",
    "from IPython.display import HTML\n",
    "from shapely.geometry import Point\n",
    "from sklearn.cluster import Birch\n",
    "from sklearn.exceptions import DataConversionWarning\n",
    "from sklearn import linear_model\n",
    "from sklearn.linear_model import LinearRegression\n",
    "from sklearn.metrics import mean_squared_error\n",
    "import scipy.stats\n",
    "import gmaps\n",
    "import gmaps.datasets\n",
    "%matplotlib inline\n",
    "%pylab inline"
   ]
  },
  {
   "cell_type": "code",
   "execution_count": 163,
   "metadata": {},
   "outputs": [],
   "source": [
    "# Load data from cleaned csv files - (Alt_Fuel_DW.ipynb contains the Data Wrangling code)\n",
    "alt_fuels_df = pd.read_csv('open_fuels.csv',parse_dates = True, error_bad_lines=False,low_memory=False)"
   ]
  },
  {
   "cell_type": "code",
   "execution_count": 164,
   "metadata": {},
   "outputs": [],
   "source": [
    "# Create Dataframe st_df to contain ID and OpenYear for grouping stations\n",
    "st_df=alt_fuels_df[['ID','OpenDate']]"
   ]
  },
  {
   "cell_type": "code",
   "execution_count": 165,
   "metadata": {},
   "outputs": [],
   "source": [
    "# Function to get year from dateAdded\n",
    "def get_year(dt):\n",
    "    return dt.year\n",
    "def get_month(dt):\n",
    "    return dt.month"
   ]
  },
  {
   "cell_type": "code",
   "execution_count": 166,
   "metadata": {},
   "outputs": [
    {
     "data": {
      "text/html": [
       "<div>\n",
       "<style scoped>\n",
       "    .dataframe tbody tr th:only-of-type {\n",
       "        vertical-align: middle;\n",
       "    }\n",
       "\n",
       "    .dataframe tbody tr th {\n",
       "        vertical-align: top;\n",
       "    }\n",
       "\n",
       "    .dataframe thead th {\n",
       "        text-align: right;\n",
       "    }\n",
       "</style>\n",
       "<table border=\"1\" class=\"dataframe\">\n",
       "  <thead>\n",
       "    <tr style=\"text-align: right;\">\n",
       "      <th></th>\n",
       "      <th>ID</th>\n",
       "      <th>OpenDate</th>\n",
       "    </tr>\n",
       "  </thead>\n",
       "  <tbody>\n",
       "    <tr>\n",
       "      <th>0</th>\n",
       "      <td>17</td>\n",
       "      <td>2010-12-01</td>\n",
       "    </tr>\n",
       "    <tr>\n",
       "      <th>1</th>\n",
       "      <td>42</td>\n",
       "      <td>1994-07-15</td>\n",
       "    </tr>\n",
       "    <tr>\n",
       "      <th>2</th>\n",
       "      <td>45</td>\n",
       "      <td>1996-12-15</td>\n",
       "    </tr>\n",
       "    <tr>\n",
       "      <th>3</th>\n",
       "      <td>64</td>\n",
       "      <td>1997-01-01</td>\n",
       "    </tr>\n",
       "    <tr>\n",
       "      <th>4</th>\n",
       "      <td>72</td>\n",
       "      <td>1996-12-15</td>\n",
       "    </tr>\n",
       "  </tbody>\n",
       "</table>\n",
       "</div>"
      ],
      "text/plain": [
       "   ID    OpenDate\n",
       "0  17  2010-12-01\n",
       "1  42  1994-07-15\n",
       "2  45  1996-12-15\n",
       "3  64  1997-01-01\n",
       "4  72  1996-12-15"
      ]
     },
     "execution_count": 166,
     "metadata": {},
     "output_type": "execute_result"
    }
   ],
   "source": [
    "st_df.head()"
   ]
  },
  {
   "cell_type": "code",
   "execution_count": 167,
   "metadata": {},
   "outputs": [],
   "source": [
    "ts_df = st_df.copy()\n",
    "ts_df.OpenDate= pd.to_datetime(ts_df.OpenDate)\n",
    "ts_df['Year'] = ts_df.OpenDate.map(get_year)\n",
    "ts_df['Month'] = ts_df.OpenDate.map(get_month)"
   ]
  },
  {
   "cell_type": "code",
   "execution_count": 168,
   "metadata": {},
   "outputs": [],
   "source": [
    "del ts_df['OpenDate']\n",
    "st_cnt_year_month = ts_df.groupby(['Year','Month']).ID.agg('count').to_frame('Count').reset_index()"
   ]
  },
  {
   "cell_type": "code",
   "execution_count": 169,
   "metadata": {},
   "outputs": [],
   "source": [
    "st_cnt_year_month = st_cnt_year_month[(st_cnt_year_month.Year>=2000) & (st_cnt_year_month.Year!=2019)]"
   ]
  },
  {
   "cell_type": "code",
   "execution_count": 170,
   "metadata": {},
   "outputs": [
    {
     "data": {
      "text/html": [
       "<div>\n",
       "<style scoped>\n",
       "    .dataframe tbody tr th:only-of-type {\n",
       "        vertical-align: middle;\n",
       "    }\n",
       "\n",
       "    .dataframe tbody tr th {\n",
       "        vertical-align: top;\n",
       "    }\n",
       "\n",
       "    .dataframe thead th {\n",
       "        text-align: right;\n",
       "    }\n",
       "</style>\n",
       "<table border=\"1\" class=\"dataframe\">\n",
       "  <thead>\n",
       "    <tr style=\"text-align: right;\">\n",
       "      <th></th>\n",
       "      <th>Year</th>\n",
       "      <th>Month</th>\n",
       "      <th>Count</th>\n",
       "    </tr>\n",
       "  </thead>\n",
       "  <tbody>\n",
       "    <tr>\n",
       "      <th>306</th>\n",
       "      <td>2018</td>\n",
       "      <td>8</td>\n",
       "      <td>71</td>\n",
       "    </tr>\n",
       "    <tr>\n",
       "      <th>307</th>\n",
       "      <td>2018</td>\n",
       "      <td>9</td>\n",
       "      <td>136</td>\n",
       "    </tr>\n",
       "    <tr>\n",
       "      <th>308</th>\n",
       "      <td>2018</td>\n",
       "      <td>10</td>\n",
       "      <td>202</td>\n",
       "    </tr>\n",
       "    <tr>\n",
       "      <th>309</th>\n",
       "      <td>2018</td>\n",
       "      <td>11</td>\n",
       "      <td>1031</td>\n",
       "    </tr>\n",
       "    <tr>\n",
       "      <th>310</th>\n",
       "      <td>2018</td>\n",
       "      <td>12</td>\n",
       "      <td>161</td>\n",
       "    </tr>\n",
       "  </tbody>\n",
       "</table>\n",
       "</div>"
      ],
      "text/plain": [
       "     Year  Month  Count\n",
       "306  2018      8     71\n",
       "307  2018      9    136\n",
       "308  2018     10    202\n",
       "309  2018     11   1031\n",
       "310  2018     12    161"
      ]
     },
     "execution_count": 170,
     "metadata": {},
     "output_type": "execute_result"
    }
   ],
   "source": [
    "st_cnt_year_month.tail()"
   ]
  },
  {
   "cell_type": "code",
   "execution_count": 171,
   "metadata": {},
   "outputs": [
    {
     "data": {
      "text/html": [
       "<div>\n",
       "<style scoped>\n",
       "    .dataframe tbody tr th:only-of-type {\n",
       "        vertical-align: middle;\n",
       "    }\n",
       "\n",
       "    .dataframe tbody tr th {\n",
       "        vertical-align: top;\n",
       "    }\n",
       "\n",
       "    .dataframe thead th {\n",
       "        text-align: right;\n",
       "    }\n",
       "</style>\n",
       "<table border=\"1\" class=\"dataframe\">\n",
       "  <thead>\n",
       "    <tr style=\"text-align: right;\">\n",
       "      <th></th>\n",
       "      <th>Year</th>\n",
       "      <th>Month</th>\n",
       "      <th>Count</th>\n",
       "      <th>Day</th>\n",
       "    </tr>\n",
       "  </thead>\n",
       "  <tbody>\n",
       "    <tr>\n",
       "      <th>91</th>\n",
       "      <td>2000-1-01</td>\n",
       "      <td>1</td>\n",
       "      <td>7</td>\n",
       "      <td>01</td>\n",
       "    </tr>\n",
       "    <tr>\n",
       "      <th>92</th>\n",
       "      <td>2000-3-01</td>\n",
       "      <td>3</td>\n",
       "      <td>19</td>\n",
       "      <td>01</td>\n",
       "    </tr>\n",
       "    <tr>\n",
       "      <th>93</th>\n",
       "      <td>2000-4-01</td>\n",
       "      <td>4</td>\n",
       "      <td>4</td>\n",
       "      <td>01</td>\n",
       "    </tr>\n",
       "    <tr>\n",
       "      <th>94</th>\n",
       "      <td>2000-6-01</td>\n",
       "      <td>6</td>\n",
       "      <td>3</td>\n",
       "      <td>01</td>\n",
       "    </tr>\n",
       "    <tr>\n",
       "      <th>95</th>\n",
       "      <td>2000-7-01</td>\n",
       "      <td>7</td>\n",
       "      <td>1</td>\n",
       "      <td>01</td>\n",
       "    </tr>\n",
       "  </tbody>\n",
       "</table>\n",
       "</div>"
      ],
      "text/plain": [
       "         Year  Month  Count Day\n",
       "91  2000-1-01      1      7  01\n",
       "92  2000-3-01      3     19  01\n",
       "93  2000-4-01      4      4  01\n",
       "94  2000-6-01      6      3  01\n",
       "95  2000-7-01      7      1  01"
      ]
     },
     "execution_count": 171,
     "metadata": {},
     "output_type": "execute_result"
    }
   ],
   "source": [
    "st_cnt_year_month['Day']='01'\n",
    "st_cnt_year_month['Year'] = st_cnt_year_month['Year'].astype(str)+'-'+st_cnt_year_month['Month'].astype(str)+\\\n",
    "'-'+st_cnt_year_month['Day'].astype(str)\n",
    "st_cnt_year_month.head()"
   ]
  },
  {
   "cell_type": "code",
   "execution_count": 172,
   "metadata": {},
   "outputs": [
    {
     "data": {
      "text/html": [
       "<div>\n",
       "<style scoped>\n",
       "    .dataframe tbody tr th:only-of-type {\n",
       "        vertical-align: middle;\n",
       "    }\n",
       "\n",
       "    .dataframe tbody tr th {\n",
       "        vertical-align: top;\n",
       "    }\n",
       "\n",
       "    .dataframe thead th {\n",
       "        text-align: right;\n",
       "    }\n",
       "</style>\n",
       "<table border=\"1\" class=\"dataframe\">\n",
       "  <thead>\n",
       "    <tr style=\"text-align: right;\">\n",
       "      <th></th>\n",
       "      <th>Year</th>\n",
       "      <th>Count</th>\n",
       "    </tr>\n",
       "  </thead>\n",
       "  <tbody>\n",
       "    <tr>\n",
       "      <th>306</th>\n",
       "      <td>2018-8-01</td>\n",
       "      <td>71</td>\n",
       "    </tr>\n",
       "    <tr>\n",
       "      <th>307</th>\n",
       "      <td>2018-9-01</td>\n",
       "      <td>136</td>\n",
       "    </tr>\n",
       "    <tr>\n",
       "      <th>308</th>\n",
       "      <td>2018-10-01</td>\n",
       "      <td>202</td>\n",
       "    </tr>\n",
       "    <tr>\n",
       "      <th>309</th>\n",
       "      <td>2018-11-01</td>\n",
       "      <td>1031</td>\n",
       "    </tr>\n",
       "    <tr>\n",
       "      <th>310</th>\n",
       "      <td>2018-12-01</td>\n",
       "      <td>161</td>\n",
       "    </tr>\n",
       "  </tbody>\n",
       "</table>\n",
       "</div>"
      ],
      "text/plain": [
       "           Year  Count\n",
       "306   2018-8-01     71\n",
       "307   2018-9-01    136\n",
       "308  2018-10-01    202\n",
       "309  2018-11-01   1031\n",
       "310  2018-12-01    161"
      ]
     },
     "execution_count": 172,
     "metadata": {},
     "output_type": "execute_result"
    }
   ],
   "source": [
    "del st_cnt_year_month['Month']\n",
    "del st_cnt_year_month['Day']\n",
    "st_cnt_year_month.tail()"
   ]
  },
  {
   "cell_type": "code",
   "execution_count": 173,
   "metadata": {},
   "outputs": [
    {
     "data": {
      "text/plain": [
       "DatetimeIndex(['2000-01-01', '2000-03-01', '2000-04-01', '2000-06-01',\n",
       "               '2000-07-01', '2000-08-01', '2000-10-01', '2000-11-01',\n",
       "               '2000-12-01', '2001-01-01',\n",
       "               ...\n",
       "               '2018-03-01', '2018-04-01', '2018-05-01', '2018-06-01',\n",
       "               '2018-07-01', '2018-08-01', '2018-09-01', '2018-10-01',\n",
       "               '2018-11-01', '2018-12-01'],\n",
       "              dtype='datetime64[ns]', name='Year', length=220, freq=None)"
      ]
     },
     "execution_count": 173,
     "metadata": {},
     "output_type": "execute_result"
    }
   ],
   "source": [
    "st_cnt_year_month.Year= pd.to_datetime(st_cnt_year_month.Year)\n",
    "st_cnt_year_month.set_index('Year', inplace=True)\n",
    "st_cnt_year_month.index"
   ]
  },
  {
   "cell_type": "code",
   "execution_count": 174,
   "metadata": {},
   "outputs": [],
   "source": [
    "series = st_cnt_year_month.Count"
   ]
  },
  {
   "cell_type": "code",
   "execution_count": 175,
   "metadata": {},
   "outputs": [
    {
     "data": {
      "text/plain": [
       "Year\n",
       "2018-08-01      71\n",
       "2018-09-01     136\n",
       "2018-10-01     202\n",
       "2018-11-01    1031\n",
       "2018-12-01     161\n",
       "Name: Count, dtype: int64"
      ]
     },
     "execution_count": 175,
     "metadata": {},
     "output_type": "execute_result"
    }
   ],
   "source": [
    "series.tail()"
   ]
  },
  {
   "cell_type": "code",
   "execution_count": 176,
   "metadata": {},
   "outputs": [
    {
     "data": {
      "text/plain": [
       "<matplotlib.axes._subplots.AxesSubplot at 0x1a44917a20>"
      ]
     },
     "execution_count": 176,
     "metadata": {},
     "output_type": "execute_result"
    },
    {
     "data": {
      "image/png": "[encoded data removed]",
      "text/plain": [
       "<Figure size 432x288 with 1 Axes>"
      ]
     },
     "metadata": {
      "needs_background": "light"
     },
     "output_type": "display_data"
    }
   ],
   "source": [
    "series.plot()"
   ]
  },
  {
   "cell_type": "markdown",
   "metadata": {},
   "source": [
    "## Experimental Test Setup\n",
    "We will split the alternative fuels dataset into two parts: a training and a test set.\n",
    "66% of data will be taken for the training dataset and the remaining 34% of data will be used for the test set."
   ]
  },
  {
   "cell_type": "code",
   "execution_count": 177,
   "metadata": {},
   "outputs": [],
   "source": [
    "# Split into train and test sets\n",
    "X = series.values\n",
    "train_size = int(len(X) * 0.66)\n",
    "train, test = X[1:train_size], X[train_size:]"
   ]
  },
  {
   "cell_type": "markdown",
   "metadata": {},
   "source": [
    "Models will be developed using the training dataset and will make predictions on the test dataset.\n",
    "\n",
    "A rolling forecast scenario will be used, also called walk-forward model validation.\n",
    "\n",
    "Each time step of the test dataset will be walked one at a time. A model will be used to make a forecast for the time step, then the actual expected value from the test set will be taken and made available to the model for the forecast on the next time step."
   ]
  },
  {
   "cell_type": "markdown",
   "metadata": {},
   "source": [
    "## Persistence Forecast of Observed vs Predicted"
   ]
  },
  {
   "cell_type": "code",
   "execution_count": 178,
   "metadata": {},
   "outputs": [
    {
     "name": "stdout",
     "output_type": "stream",
     "text": [
      "RMSE: 177.989\n"
     ]
    },
    {
     "data": {
      "image/png": "[encoded data removed]",
      "text/plain": [
       "<Figure size 432x288 with 1 Axes>"
      ]
     },
     "metadata": {
      "needs_background": "light"
     },
     "output_type": "display_data"
    }
   ],
   "source": [
    "# walk-forward validation\n",
    "history = [x for x in train]\n",
    "predictions = list()\n",
    "for i in range(len(test)):\n",
    "    # make prediction\n",
    "    predictions.append(history[-1])\n",
    "    # observation\n",
    "    history.append(test[i])\n",
    "# report performance\n",
    "rmse = sqrt(mean_squared_error(test, predictions))\n",
    "print('RMSE: %.3f' % rmse)\n",
    "# line plot of observed vs predicted\n",
    "pyplot.plot(test)\n",
    "pyplot.plot(predictions)\n",
    "pyplot.show()"
   ]
  },
  {
   "cell_type": "markdown",
   "metadata": {},
   "source": [
    "## LSTM"
   ]
  },
  {
   "cell_type": "markdown",
   "metadata": {},
   "source": [
    "## Transform Time Series to Supervised Learning"
   ]
  },
  {
   "cell_type": "markdown",
   "metadata": {},
   "source": [
    "The LSTM model in Keras assumes that your data is divided into input (X) and output (y) components.\n",
    "\n",
    "For a time series problem, we can achieve this by using the observation from the last time step (t-1) as the input and the observation at the current time step (t) as the output.\n",
    "\n",
    "We can achieve this using the shift() function in Pandas that will push all values in a series down by a specified number places. We require a shift of 1 place, which will become the input variables. The time series as it stands will be the output variables.\n",
    "\n",
    "We can then concatenate these two series together to create a DataFrame ready for supervised learning. The pushed-down series will have a new position at the top with no value. A NaN (not a number) value will be used in this position. We will replace these NaN values with 0 values.\n",
    "\n",
    "The code below defines a helper function to do this called timeseries_to_supervised(). It takes a NumPy array of the raw time series data and a lag or number of shifted series to create and use as inputs."
   ]
  },
  {
   "cell_type": "code",
   "execution_count": 179,
   "metadata": {},
   "outputs": [],
   "source": [
    "# frame a sequence as a supervised learning problem\n",
    "def timeseries_to_supervised(data, lag=1):\n",
    "    df = DataFrame(data)\n",
    "    columns = [df.shift(i) for i in range(1, lag+1)]\n",
    "    columns.append(df)\n",
    "    df = concat(columns, axis=1)\n",
    "    df.fillna(0, inplace=True)\n",
    "    return df"
   ]
  },
  {
   "cell_type": "markdown",
   "metadata": {},
   "source": [
    "We can test this function with our loaded alternative fuel stations dataset and convert it into a supervised learning problem."
   ]
  },
  {
   "cell_type": "code",
   "execution_count": 180,
   "metadata": {},
   "outputs": [
    {
     "name": "stdout",
     "output_type": "stream",
     "text": [
      "      0   0\n",
      "0   0.0   7\n",
      "1   7.0  19\n",
      "2  19.0   4\n",
      "3   4.0   3\n",
      "4   3.0   1\n"
     ]
    }
   ],
   "source": [
    "supervised = timeseries_to_supervised(X, 1)\n",
    "print(supervised.head())"
   ]
  },
  {
   "cell_type": "markdown",
   "metadata": {},
   "source": [
    "## Transform Time Series to Stationary"
   ]
  },
  {
   "cell_type": "markdown",
   "metadata": {},
   "source": [
    "The alternative fuel stations dataset is not stationary.\n",
    "\n",
    "This means that there is a structure in the data that is dependent on the time. Specifically, there is an increasing trend in the data.\n",
    "\n",
    "Stationary data is easier to model and will very likely result in more skillful forecasts.\n",
    "\n",
    "The trend can be removed from the observations, then added back to forecasts later to return the prediction to the original scale and calculate a comparable error score.\n",
    "\n",
    "A standard way to remove a trend is by differencing the data. That is the observation from the previous time step (t-1) is subtracted from the current observation (t). This removes the trend and we are left with a difference series, or the changes to the observations from one time step to the next.\n",
    "\n",
    "We can achieve this automatically using the diff() function in pandas. Alternatively, we can get finer grained control and write our own function to do this, which is preferred for its flexibility in this case.\n",
    "\n",
    "Below is a function called difference() that calculates a differenced series. Note that the first observation in the series is skipped as there is no prior observation with which to calculate a differenced value."
   ]
  },
  {
   "cell_type": "code",
   "execution_count": 181,
   "metadata": {},
   "outputs": [],
   "source": [
    "from pandas import Series\n",
    " \n",
    "# create a differenced series\n",
    "def difference(dataset, interval=1):\n",
    "    diff = list()\n",
    "    for i in range(interval, len(dataset)):\n",
    "        value = dataset[i] - dataset[i - interval]\n",
    "        diff.append(value)\n",
    "    return Series(diff)\n",
    " \n",
    "# invert differenced value\n",
    "def inverse_difference(history, yhat, interval=1):\n",
    "    return yhat + history[-interval]\n"
   ]
  },
  {
   "cell_type": "markdown",
   "metadata": {},
   "source": [
    "## Transform Time Series to Scale"
   ]
  },
  {
   "cell_type": "markdown",
   "metadata": {},
   "source": [
    "Like other neural networks, LSTMs expect data to be within the scale of the activation function used by the network.\n",
    "\n",
    "The default activation function for LSTMs is the hyperbolic tangent (tanh), which outputs values between -1 and 1. This is the preferred range for the time series data.\n",
    "\n",
    "To make the experiment fair, the scaling coefficients (min and max) values must be calculated on the training dataset and applied to scale the test dataset and any forecasts. This is to avoid contaminating the experiment with knowledge from the test dataset, which might give the model a small edge.\n",
    "\n",
    "We can transform the dataset to the range [-1, 1] using the MinMaxScaler class. Like other scikit-learn transform classes, it requires data provided in a matrix format with rows and columns. Therefore, we must reshape our NumPy arrays before transforming."
   ]
  },
  {
   "cell_type": "code",
   "execution_count": 182,
   "metadata": {},
   "outputs": [],
   "source": [
    "from sklearn.preprocessing import MinMaxScaler\n",
    "# scale train and test data to [-1, 1]\n",
    "def scale(train, test):\n",
    "    # fit scaler\n",
    "    scaler = MinMaxScaler(feature_range=(-1, 1))\n",
    "    scaler = scaler.fit(train)\n",
    "    # transform train\n",
    "    train = train.reshape(train.shape[0], train.shape[1])\n",
    "    train_scaled = scaler.transform(train)\n",
    "    # transform test\n",
    "    test = test.reshape(test.shape[0], test.shape[1])\n",
    "    test_scaled = scaler.transform(test)\n",
    "    return scaler, train_scaled, test_scaled\n",
    " \n",
    "# inverse scaling for a forecasted value\n",
    "def invert_scale(scaler, X, value):\n",
    "    new_row = [x for x in X] + [value]\n",
    "    array = numpy.array(new_row)\n",
    "    array = array.reshape(1, len(array))\n",
    "    inverted = scaler.inverse_transform(array)\n",
    "    return inverted[0, -1]\n"
   ]
  },
  {
   "cell_type": "markdown",
   "metadata": {},
   "source": [
    "## LSTM Model Development"
   ]
  },
  {
   "cell_type": "markdown",
   "metadata": {},
   "source": [
    "The Long Short-Term Memory network (LSTM) is a type of Recurrent Neural Network (RNN).\n",
    "\n",
    "A benefit of this type of network is that it can learn and remember over long sequences and does not rely on a pre-specified window lagged observation as input.\n",
    "\n",
    "In Keras, this is referred to as stateful, and involves setting the “stateful” argument to “True” when defining an LSTM layer.\n",
    "\n",
    "By default, an LSTM layer in Keras maintains state between data within one batch. A batch of data is a fixed-sized number of rows from the training dataset that defines how many patterns to process before updating the weights of the network. State in the LSTM layer between batches is cleared by default, therefore we must make the LSTM stateful. This gives us fine-grained control over when state of the LSTM layer is cleared, by calling the reset_states() function.\n",
    "\n",
    "The LSTM layer expects input to be in a matrix with the dimensions: [samples, time steps, features].\n",
    "\n",
    "Samples: These are independent observations from the domain, typically rows of data.\n",
    "Time steps: These are separate time steps of a given variable for a given observation.\n",
    "Features: These are separate measures observed at the time of observation. We will keep it simple and frame the problem as each time step in the original sequence is one separate sample, with one timestep and one feature.\n",
    "\n",
    "Given that the training dataset is defined as X inputs and y outputs, it must be reshaped into the Samples/TimeSteps/Features format.\n"
   ]
  },
  {
   "cell_type": "code",
   "execution_count": 183,
   "metadata": {},
   "outputs": [],
   "source": [
    "from keras.models import Sequential\n",
    "from keras.layers import Dense\n",
    "from keras.layers import LSTM\n",
    "from math import sqrt\n",
    "from matplotlib import pyplot\n",
    "import numpy\n",
    "# fit an LSTM network to training data\n",
    "def fit_lstm(train, batch_size, nb_epoch, neurons):\n",
    "    X, y = train[:, 0:-1], train[:, -1]\n",
    "    X = X.reshape(X.shape[0], 1, X.shape[1])\n",
    "    model = Sequential()\n",
    "    model.add(LSTM(neurons, batch_input_shape=(batch_size, X.shape[1], X.shape[2]), stateful=True))\n",
    "    model.add(Dense(1))\n",
    "    model.compile(loss='mean_squared_error', optimizer='adam')\n",
    "    for i in range(nb_epoch):\n",
    "        model.fit(X, y, epochs=1, batch_size=batch_size, verbose=0, shuffle=False)\n",
    "        model.reset_states()\n",
    "    return model\n",
    " \n",
    "# make a one-step forecast\n",
    "def forecast_lstm(model, batch_size, X):\n",
    "    X = X.reshape(1, 1, len(X))\n",
    "    yhat = model.predict(X, batch_size=batch_size)\n",
    "    return yhat[0,0]\n",
    " "
   ]
  },
  {
   "cell_type": "code",
   "execution_count": 184,
   "metadata": {
    "scrolled": false
   },
   "outputs": [],
   "source": [
    "# transform data to be stationary\n",
    "raw_values = series.values\n",
    "diff_values = difference(raw_values, 1)\n",
    " \n",
    "# transform data to be supervised learning\n",
    "supervised = timeseries_to_supervised(diff_values, 1)\n",
    "supervised_values = supervised.values"
   ]
  },
  {
   "cell_type": "code",
   "execution_count": 185,
   "metadata": {},
   "outputs": [],
   "source": [
    "# split data into train and test-sets\n",
    "train_size = int(len(supervised_values) * 0.66)\n",
    "train, test = supervised_values[0:train_size], supervised_values[train_size:]"
   ]
  },
  {
   "cell_type": "code",
   "execution_count": 186,
   "metadata": {},
   "outputs": [],
   "source": [
    "# transform the scale of the data\n",
    "scaler, train_scaled, test_scaled = scale(train, test)"
   ]
  },
  {
   "cell_type": "markdown",
   "metadata": {},
   "source": [
    "## LSTM Forecast"
   ]
  },
  {
   "cell_type": "markdown",
   "metadata": {},
   "source": [
    "Once the LSTM model is fit to the training data, it can be used to make forecasts.\n",
    "Again, we have some flexibility. We can decide to fit the model once on all of the training data, then predict each new time step one at a time from the test data (we’ll call this the fixed approach), or we can re-fit the model or update the model each time step of the test data as new observations from the test data are made available (we’ll call this the dynamic approach).\n",
    "\n",
    "We will go with the fixed approach, although, we would expect the dynamic approach to result in better model skill.\n",
    "\n",
    "To make a forecast, we can call the predict() function on the model. This requires a 3D NumPy array input as an argument. In this case, it will be an array of one value, the observation at the previous time step.\n",
    "\n",
    "The predict() function returns an array of predictions, one for each input row provided. Because we are providing a single input, the output will be a 2D NumPy array with one value.\n",
    "\n",
    "We can capture this behavior in a function named forecast() listed below. Given a fit model, a batch-size used when fitting the model, and a row from the test data, the function will separate out the input data from the test row, reshape it, and return the prediction as a single floating point value."
   ]
  },
  {
   "cell_type": "code",
   "execution_count": 149,
   "metadata": {},
   "outputs": [],
   "source": [
    "# fit the model\n",
    "lstm_model = fit_lstm(train_scaled, 1, 3000, 4)"
   ]
  },
  {
   "cell_type": "code",
   "execution_count": 187,
   "metadata": {
    "scrolled": false
   },
   "outputs": [
    {
     "data": {
      "text/plain": [
       "array([[-0.66499794],\n",
       "       [-0.5238522 ],\n",
       "       [-0.3870498 ],\n",
       "       [-0.36901653],\n",
       "       [-0.37458622],\n",
       "       [-0.38544762],\n",
       "       [-0.39390552],\n",
       "       [-0.38750553],\n",
       "       [-0.39044964],\n",
       "       [-0.40008712],\n",
       "       [-0.38316298],\n",
       "       [-0.38734365],\n",
       "       [-0.41108716],\n",
       "       [-0.39695585],\n",
       "       [-0.37143087],\n",
       "       [-0.38334155],\n",
       "       [-0.39133143],\n",
       "       [-0.38943517],\n",
       "       [-0.38669175],\n",
       "       [-0.42479306],\n",
       "       [-0.3723203 ],\n",
       "       [-0.3859241 ],\n",
       "       [-0.38659394],\n",
       "       [-0.41411585],\n",
       "       [-0.3734839 ],\n",
       "       [-0.38044524],\n",
       "       [-0.38382924],\n",
       "       [-0.40815157],\n",
       "       [-0.38057685],\n",
       "       [-0.38748556],\n",
       "       [-0.40147197],\n",
       "       [-0.40426123],\n",
       "       [-0.3715431 ],\n",
       "       [-0.3753507 ],\n",
       "       [-0.40874517],\n",
       "       [-0.3802904 ],\n",
       "       [-0.37982666],\n",
       "       [-0.40699673],\n",
       "       [-0.39840895],\n",
       "       [-0.3752674 ],\n",
       "       [-0.38273084],\n",
       "       [-0.38311678],\n",
       "       [-0.40464878],\n",
       "       [-0.39345407],\n",
       "       [-0.3827418 ],\n",
       "       [-0.40472972],\n",
       "       [-0.4330449 ],\n",
       "       [-0.36016774],\n",
       "       [-0.36518526],\n",
       "       [-0.39204568],\n",
       "       [-0.38564938],\n",
       "       [-0.38461387],\n",
       "       [-0.39439178],\n",
       "       [-0.38831794],\n",
       "       [-0.41297412],\n",
       "       [-0.42412382],\n",
       "       [-0.37397116],\n",
       "       [-0.44510257],\n",
       "       [-0.39136577],\n",
       "       [-0.33600402],\n",
       "       [-0.40037405],\n",
       "       [-0.36643755],\n",
       "       [-0.3819152 ],\n",
       "       [-0.39193326],\n",
       "       [-0.38553816],\n",
       "       [-0.39927214],\n",
       "       [-0.4025365 ],\n",
       "       [-0.38842714],\n",
       "       [-0.37740982],\n",
       "       [-0.42237842],\n",
       "       [-0.37225986],\n",
       "       [-0.46729589],\n",
       "       [-0.4413613 ],\n",
       "       [-0.3394444 ],\n",
       "       [-0.3651315 ],\n",
       "       [-0.34200722],\n",
       "       [-0.413208  ],\n",
       "       [-0.3996557 ],\n",
       "       [-0.42259932],\n",
       "       [-0.3756386 ],\n",
       "       [-0.3809458 ],\n",
       "       [-0.3935895 ],\n",
       "       [-0.36440098],\n",
       "       [-0.39502263],\n",
       "       [-0.37587595],\n",
       "       [-0.40446246],\n",
       "       [-0.3742302 ],\n",
       "       [-0.3997392 ],\n",
       "       [-0.5378319 ],\n",
       "       [-0.31914604],\n",
       "       [-0.30758446],\n",
       "       [-0.3465823 ],\n",
       "       [-0.37899268],\n",
       "       [-0.45214468],\n",
       "       [-0.4452598 ],\n",
       "       [-0.3860711 ],\n",
       "       [-0.34993082],\n",
       "       [-0.35880315],\n",
       "       [-0.37190706],\n",
       "       [-0.51877266],\n",
       "       [-0.6035422 ],\n",
       "       [-0.1931925 ],\n",
       "       [-0.2510674 ],\n",
       "       [-0.368675  ],\n",
       "       [-0.4102686 ],\n",
       "       [-0.42857933],\n",
       "       [-0.39278692],\n",
       "       [-0.3625713 ],\n",
       "       [-0.36442482],\n",
       "       [-0.40468967],\n",
       "       [-0.3817283 ],\n",
       "       [-0.4424379 ],\n",
       "       [-0.41794062],\n",
       "       [-0.33109552],\n",
       "       [-0.3844731 ],\n",
       "       [-0.39482194],\n",
       "       [-0.38754874],\n",
       "       [-0.40873325],\n",
       "       [-0.3733245 ],\n",
       "       [-0.37151057],\n",
       "       [-0.38640106],\n",
       "       [-0.41293728],\n",
       "       [-0.41237164],\n",
       "       [-0.44788587],\n",
       "       [-0.44213152],\n",
       "       [-0.31599045],\n",
       "       [-0.8179138 ],\n",
       "       [-0.07972595],\n",
       "       [-0.29069036],\n",
       "       [-0.42223018],\n",
       "       [-0.39055645],\n",
       "       [-0.4328059 ],\n",
       "       [-0.33821934],\n",
       "       [-0.39465094],\n",
       "       [-0.9004111 ],\n",
       "       [-0.23103486],\n",
       "       [-0.81256855],\n",
       "       [ 0.02115974],\n",
       "       [ 0.03964551],\n",
       "       [-0.02323277],\n",
       "       [ 0.06828068],\n",
       "       [ 0.05524401],\n",
       "       [ 0.14658026],\n",
       "       [-0.04656149]], dtype=float32)"
      ]
     },
     "execution_count": 187,
     "metadata": {},
     "output_type": "execute_result"
    }
   ],
   "source": [
    "# forecast the entire training dataset to build up state for forecasting\n",
    "train_reshaped = train_scaled[:, 0].reshape(len(train_scaled), 1, 1)\n",
    "lstm_model.predict(train_reshaped, batch_size=1)\n",
    " "
   ]
  },
  {
   "cell_type": "code",
   "execution_count": 188,
   "metadata": {
    "scrolled": false
   },
   "outputs": [
    {
     "name": "stdout",
     "output_type": "stream",
     "text": [
      "Month=1, Predicted=230.258438, Expected=236.000000\n",
      "Month=2, Predicted=-43.842336, Expected=72.000000\n",
      "Month=3, Predicted=406.904286, Expected=115.000000\n",
      "Month=4, Predicted=-38.776963, Expected=97.000000\n",
      "Month=5, Predicted=251.918843, Expected=43.000000\n",
      "Month=6, Predicted=-6.738522, Expected=89.000000\n",
      "Month=7, Predicted=148.887641, Expected=77.000000\n",
      "Month=8, Predicted=103.749141, Expected=42.000000\n",
      "Month=9, Predicted=162.046639, Expected=148.000000\n",
      "Month=10, Predicted=4.229213, Expected=48.000000\n",
      "Month=11, Predicted=272.837750, Expected=74.000000\n",
      "Month=12, Predicted=26.994933, Expected=112.000000\n",
      "Month=13, Predicted=125.520749, Expected=96.000000\n",
      "Month=14, Predicted=140.772610, Expected=98.000000\n",
      "Month=15, Predicted=145.080240, Expected=143.000000\n",
      "Month=16, Predicted=104.124634, Expected=133.000000\n",
      "Month=17, Predicted=193.612378, Expected=117.000000\n",
      "Month=18, Predicted=184.672978, Expected=70.000000\n",
      "Month=19, Predicted=160.671953, Expected=96.000000\n",
      "Month=20, Predicted=132.708645, Expected=61.000000\n",
      "Month=21, Predicted=153.052099, Expected=124.000000\n",
      "Month=22, Predicted=67.553511, Expected=108.000000\n",
      "Month=23, Predicted=178.708554, Expected=147.000000\n",
      "Month=24, Predicted=107.083138, Expected=156.000000\n",
      "Month=25, Predicted=190.158623, Expected=109.000000\n",
      "Month=26, Predicted=203.146523, Expected=119.000000\n",
      "Month=27, Predicted=175.425970, Expected=149.000000\n",
      "Month=28, Predicted=132.675398, Expected=171.000000\n",
      "Month=29, Predicted=178.470110, Expected=254.000000\n",
      "Month=30, Predicted=138.229400, Expected=146.000000\n",
      "Month=31, Predicted=377.265916, Expected=231.000000\n",
      "Month=32, Predicted=146.226082, Expected=191.000000\n",
      "Month=33, Predicted=309.994795, Expected=177.000000\n",
      "Month=34, Predicted=210.327169, Expected=164.000000\n",
      "Month=35, Predicted=260.356247, Expected=169.000000\n",
      "Month=36, Predicted=208.570774, Expected=141.000000\n",
      "Month=37, Predicted=238.336163, Expected=226.000000\n",
      "Month=38, Predicted=120.782755, Expected=210.000000\n",
      "Month=39, Predicted=281.225236, Expected=194.000000\n",
      "Month=40, Predicted=249.113707, Expected=300.000000\n",
      "Month=41, Predicted=163.583394, Expected=338.000000\n",
      "Month=42, Predicted=298.490348, Expected=206.000000\n",
      "Month=43, Predicted=369.517155, Expected=163.000000\n",
      "Month=44, Predicted=177.131836, Expected=191.000000\n",
      "Month=45, Predicted=283.985750, Expected=133.000000\n",
      "Month=46, Predicted=155.978572, Expected=138.000000\n",
      "Month=47, Predicted=253.269181, Expected=239.000000\n",
      "Month=48, Predicted=77.395049, Expected=103.000000\n",
      "Month=49, Predicted=401.447923, Expected=111.000000\n",
      "Month=50, Predicted=-23.737434, Expected=170.000000\n",
      "Month=51, Predicted=153.012060, Expected=186.000000\n",
      "Month=52, Predicted=173.101602, Expected=173.000000\n",
      "Month=53, Predicted=243.805420, Expected=118.000000\n",
      "Month=54, Predicted=195.990627, Expected=279.000000\n",
      "Month=55, Predicted=75.958381, Expected=93.000000\n",
      "Month=56, Predicted=415.118345, Expected=60.000000\n",
      "Month=57, Predicted=-24.221803, Expected=142.000000\n",
      "Month=58, Predicted=-363.322769, Expected=105.000000\n",
      "Month=59, Predicted=-226.139801, Expected=88.000000\n",
      "Month=60, Predicted=-171.442021, Expected=608.000000\n",
      "Month=61, Predicted=-37.905629, Expected=63.000000\n",
      "Month=62, Predicted=-16.734912, Expected=145.000000\n",
      "Month=63, Predicted=-267.090647, Expected=134.000000\n",
      "Month=64, Predicted=-195.759452, Expected=191.000000\n",
      "Month=65, Predicted=-222.108288, Expected=131.000000\n",
      "Month=66, Predicted=-117.735007, Expected=64.000000\n",
      "Month=67, Predicted=-48.468189, Expected=131.000000\n",
      "Month=68, Predicted=-227.172181, Expected=69.000000\n",
      "Month=69, Predicted=-172.889737, Expected=106.000000\n",
      "Month=70, Predicted=-228.681125, Expected=233.000000\n",
      "Month=71, Predicted=-324.715134, Expected=71.000000\n",
      "Month=72, Predicted=-69.168515, Expected=136.000000\n",
      "Month=73, Predicted=-198.320225, Expected=202.000000\n",
      "Month=74, Predicted=-252.286943, Expected=1031.000000\n",
      "Month=75, Predicted=409.246641, Expected=161.000000\n",
      "Test RMSE: 249.677\n"
     ]
    },
    {
     "data": {
      "image/png": "[encoded data removed]",
      "text/plain": [
       "<Figure size 432x288 with 1 Axes>"
      ]
     },
     "metadata": {
      "needs_background": "light"
     },
     "output_type": "display_data"
    }
   ],
   "source": [
    "# walk-forward validation on the test data\n",
    "predictions = list()\n",
    "for i in range(len(test_scaled)):\n",
    "    # make one-step forecast\n",
    "    X, y = test_scaled[i, 0:-1], test_scaled[i, -1]\n",
    "    yhat = forecast_lstm(lstm_model, 1, X)\n",
    "    # invert scaling\n",
    "    yhat = invert_scale(scaler, X, yhat)\n",
    "    # invert differencing\n",
    "    yhat = inverse_difference(raw_values, yhat, len(test_scaled)+1-i)\n",
    "    # store forecast\n",
    "    predictions.append(yhat)\n",
    "    expected = raw_values[len(train) + i + 1]\n",
    "    print('Month=%d, Predicted=%f, Expected=%f' % (i+1, yhat, expected))\n",
    " \n",
    "# report performance\n",
    "rv = series.values\n",
    "rvtestsize = int(len(rv) * 0.66)\n",
    "rmse = sqrt(mean_squared_error(raw_values[rvtestsize:], predictions))\n",
    "print('Test RMSE: %.3f' % rmse)\n",
    "# line plot of observed vs predicted\n",
    "pyplot.plot(raw_values[rvtestsize:])\n",
    "pyplot.plot(predictions)\n",
    "pyplot.show()"
   ]
  },
  {
   "cell_type": "markdown",
   "metadata": {},
   "source": [
    "## Develop a Robust Result"
   ]
  },
  {
   "cell_type": "markdown",
   "metadata": {},
   "source": [
    "A difficulty with neural networks is that they give different results with different starting conditions.\n",
    "\n",
    "One approach might be to fix the random number seed used by Keras to ensure the results are reproducible. Another approach would be to control for the random initial conditions using a different experimental setup.\n",
    "\n",
    "We can repeat the experiment from the previous section multiple times, then take the average RMSE as an indication of how well the configuration would be expected to perform on unseen data on average.\n",
    "\n",
    "This is often called multiple repeats or multiple restarts.\n",
    "\n",
    "We can wrap the model fitting and walk-forward validation in a loop of fixed number of repeats. Each iteration the RMSE of the run can be recorded. We can then summarize the distribution of RMSE scores."
   ]
  },
  {
   "cell_type": "markdown",
   "metadata": {},
   "source": [
    "## We will use 30 repeats as that is sufficient to provide a good distribution of RMSE scores."
   ]
  },
  {
   "cell_type": "code",
   "execution_count": 190,
   "metadata": {},
   "outputs": [],
   "source": [
    "# transform data to be stationary\n",
    "raw_values = series.values\n",
    "diff_values = difference(raw_values, 1)\n",
    " \n",
    "# transform data to be supervised learning\n",
    "supervised = timeseries_to_supervised(diff_values, 1)\n",
    "supervised_values = supervised.values\n",
    " \n",
    "# split data into train and test-sets\n",
    "train_size = int(len(supervised_values) * 0.66)\n",
    "train, test = supervised_values[0:train_size], supervised_values[train_size:]\n",
    " \n",
    "# transform the scale of the data\n",
    "scaler, train_scaled, test_scaled = scale(train, test)\n",
    " \n",
    "# repeat experiment\n",
    "repeats = 30\n",
    "error_scores = list()\n",
    "\n",
    "rv = series.values\n",
    "rvtestsize = int(len(rv) * 0.66)"
   ]
  },
  {
   "cell_type": "code",
   "execution_count": null,
   "metadata": {
    "scrolled": true
   },
   "outputs": [
    {
     "name": "stdout",
     "output_type": "stream",
     "text": [
      "1) Test RMSE: 210.827\n",
      "2) Test RMSE: 177.944\n",
      "3) Test RMSE: 154.478\n",
      "4) Test RMSE: 173.732\n",
      "5) Test RMSE: 198.704\n",
      "6) Test RMSE: 234.263\n",
      "7) Test RMSE: 221.272\n",
      "8) Test RMSE: 229.307\n",
      "9) Test RMSE: 175.612\n",
      "10) Test RMSE: 192.698\n",
      "11) Test RMSE: 175.661\n",
      "12) Test RMSE: 130.317\n",
      "13) Test RMSE: 204.678\n",
      "14) Test RMSE: 142.863\n",
      "15) Test RMSE: 210.013\n",
      "16) Test RMSE: 155.257\n",
      "17) Test RMSE: 195.996\n",
      "18) Test RMSE: 183.120\n",
      "19) Test RMSE: 150.319\n"
     ]
    }
   ],
   "source": [
    "for r in range(repeats):\n",
    "    # fit the model\n",
    "    lstm_model = fit_lstm(train_scaled, 1, 3000, 4)\n",
    "    # forecast the entire training dataset to build up state for forecasting\n",
    "    train_reshaped = train_scaled[:, 0].reshape(len(train_scaled), 1, 1)\n",
    "    lstm_model.predict(train_reshaped, batch_size=1)\n",
    "    # walk-forward validation on the test data\n",
    "    predictions = list()\n",
    "    for i in range(len(test_scaled)):\n",
    "        # make one-step forecast\n",
    "        X, y = test_scaled[i, 0:-1], test_scaled[i, -1]\n",
    "        yhat = forecast_lstm(lstm_model, 1, X)\n",
    "        # invert scaling\n",
    "        yhat = invert_scale(scaler, X, yhat)\n",
    "        # invert differencing\n",
    "        yhat = inverse_difference(raw_values, yhat, len(test_scaled)+1-i)\n",
    "        # store forecast\n",
    "        predictions.append(yhat)\n",
    "    # report performance\n",
    "    rmse = sqrt(mean_squared_error(raw_values[rvtestsize:], predictions))\n",
    "    print('%d) Test RMSE: %.3f' % (r+1, rmse))\n",
    "    error_scores.append(rmse)\n",
    " \n",
    "# summarize results\n",
    "results = DataFrame()\n",
    "results['rmse'] = error_scores\n",
    "print(results.describe())\n",
    "results.boxplot()\n",
    "pyplot.show()"
   ]
  },
  {
   "cell_type": "code",
   "execution_count": null,
   "metadata": {},
   "outputs": [],
   "source": []
  }
 ],
 "metadata": {
  "kernelspec": {
   "display_name": "Python 3",
   "language": "python",
   "name": "python3"
  },
  "language_info": {
   "codemirror_mode": {
    "name": "ipython",
    "version": 3
   },
   "file_extension": ".py",
   "mimetype": "text/x-python",
   "name": "python",
   "nbconvert_exporter": "python",
   "pygments_lexer": "ipython3",
   "version": "3.7.3"
  }
 },
 "nbformat": 4,
 "nbformat_minor": 2
}
