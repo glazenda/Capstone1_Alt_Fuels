{
 "cells": [
  {
   "cell_type": "markdown",
   "metadata": {},
   "source": [
    "## Import Packages and Libraries"
   ]
  },
  {
   "cell_type": "code",
   "execution_count": 142,
   "metadata": {},
   "outputs": [
    {
     "name": "stdout",
     "output_type": "stream",
     "text": [
      "Populating the interactive namespace from numpy and matplotlib\n"
     ]
    }
   ],
   "source": [
    "# import packages and libraries\n",
    "import seaborn as sns\n",
    "import numpy as np\n",
    "import pandas as pd\n",
    "import matplotlib.pyplot as plt\n",
    "import shapefile as shp\n",
    "import re\n",
    "import json\n",
    "import requests\n",
    "import warnings\n",
    "import geopandas as gpd\n",
    "import scipy.stats as stats\n",
    "import string\n",
    "from pygeocoder import Geocoder\n",
    "from collections import defaultdict\n",
    "from collections import OrderedDict\n",
    "from IPython.display import HTML\n",
    "from shapely.geometry import Point\n",
    "from sklearn.cluster import Birch\n",
    "from sklearn.exceptions import DataConversionWarning\n",
    "import gmaps\n",
    "import gmaps.datasets\n",
    "%matplotlib inline\n",
    "%pylab inline"
   ]
  },
  {
   "cell_type": "markdown",
   "metadata": {},
   "source": [
    "### Configure google maps API"
   ]
  },
  {
   "cell_type": "code",
   "execution_count": 143,
   "metadata": {},
   "outputs": [],
   "source": [
    "gmaps.configure(api_key=\"\")"
   ]
  },
  {
   "cell_type": "markdown",
   "metadata": {},
   "source": [
    "## Specify formatting and ignore warnings"
   ]
  },
  {
   "cell_type": "code",
   "execution_count": 144,
   "metadata": {},
   "outputs": [
    {
     "data": {
      "application/javascript": [
       "IPython.OutputArea.prototype._should_scroll = function(lines) {return false;}\n"
      ],
      "text/plain": [
       "<IPython.core.display.Javascript object>"
      ]
     },
     "metadata": {},
     "output_type": "display_data"
    }
   ],
   "source": [
    "%%javascript\n",
    "IPython.OutputArea.prototype._should_scroll = function(lines) {return false;}"
   ]
  },
  {
   "cell_type": "code",
   "execution_count": 145,
   "metadata": {},
   "outputs": [
    {
     "data": {
      "text/html": [
       "<style>.output {display: flex; \\\n",
       "              align-items: center; \\\n",
       "              text-align: center;} \\\n",
       "              </style>"
      ],
      "text/plain": [
       "<IPython.core.display.HTML object>"
      ]
     },
     "metadata": {},
     "output_type": "display_data"
    }
   ],
   "source": [
    "# Specify Formatting\n",
    "display(HTML(r\"<style>.output {display: flex; \\\n",
    "              align-items: center; \\\n",
    "              text-align: center;} \\\n",
    "              </style>\"))"
   ]
  },
  {
   "cell_type": "code",
   "execution_count": 146,
   "metadata": {},
   "outputs": [],
   "source": [
    "# Ignore warnings\n",
    "warnings.simplefilter(action=\"ignore\", \\\n",
    "                      category=FutureWarning)\n",
    "\n",
    "warnings.filterwarnings(action='ignore', \\\n",
    "                        category=DataConversionWarning)"
   ]
  },
  {
   "cell_type": "code",
   "execution_count": 147,
   "metadata": {},
   "outputs": [],
   "source": [
    "# Define function to remove white space\n",
    "def remove_whitespace(x):\n",
    "    table = {ord(char): None for char in string.whitespace}\n",
    "    return x.translate(table)"
   ]
  },
  {
   "cell_type": "markdown",
   "metadata": {},
   "source": [
    "## Load Raw Data"
   ]
  },
  {
   "cell_type": "code",
   "execution_count": 148,
   "metadata": {},
   "outputs": [],
   "source": [
    "# load csv files as pandas dataframes removing rows with invalid data\n",
    "alt_df = pd.read_csv('alt_fuel_stations (Jun 18 2019).csv',parse_dates = True, error_bad_lines=False,low_memory=False)\n",
    "# https://afdc.energy.gov/data/10581\n",
    "veh_sales_df = pd.read_csv('Alternative_Fuels_Sales.csv', parse_dates=True, error_bad_lines=False)"
   ]
  },
  {
   "cell_type": "markdown",
   "metadata": {},
   "source": [
    "## Perform Data Wrangling"
   ]
  },
  {
   "cell_type": "markdown",
   "metadata": {},
   "source": [
    "## Alternative Fuels Stations Data"
   ]
  },
  {
   "cell_type": "code",
   "execution_count": 149,
   "metadata": {},
   "outputs": [],
   "source": [
    "# Call function to clean white space from column names\n",
    "alt_df.rename(columns=remove_whitespace, inplace=True)"
   ]
  },
  {
   "cell_type": "code",
   "execution_count": 150,
   "metadata": {},
   "outputs": [
    {
     "data": {
      "text/plain": [
       "Index(['FuelTypeCode', 'StationName', 'StreetAddress',\n",
       "       'IntersectionDirections', 'City', 'State', 'ZIP', 'Plus4',\n",
       "       'StationPhone', 'StatusCode', 'ExpectedDate', 'GroupsWithAccessCode',\n",
       "       'AccessDaysTime', 'CardsAccepted', 'BDBlends', 'NGFillTypeCode',\n",
       "       'NGPSI', 'EVLevel1EVSENum', 'EVLevel2EVSENum', 'EVDCFastCount',\n",
       "       'EVOtherInfo', 'EVNetwork', 'EVNetworkWeb', 'GeocodeStatus', 'Latitude',\n",
       "       'Longitude', 'DateLastConfirmed', 'ID', 'UpdatedAt', 'OwnerTypeCode',\n",
       "       'FederalAgencyID', 'FederalAgencyName', 'OpenDate',\n",
       "       'HydrogenStatusLink', 'NGVehicleClass', 'LPGPrimary', 'E85BlenderPump',\n",
       "       'EVConnectorTypes', 'Country', 'IntersectionDirections(French)',\n",
       "       'AccessDaysTime(French)', 'BDBlends(French)',\n",
       "       'GroupsWithAccessCode(French)', 'HydrogenIsRetail', 'AccessCode',\n",
       "       'AccessDetailCode', 'FederalAgencyCode', 'FacilityType',\n",
       "       'CNGDispenserNum', 'CNGOn-SiteRenewableSource',\n",
       "       'CNGTotalCompressionCapacity', 'CNGStorageCapacity',\n",
       "       'LNGOn-SiteRenewableSource', 'E85OtherEthanolBlends', 'EVPricing',\n",
       "       'EVPricing(French)', 'LPGNozzleTypes', 'HydrogenPressures',\n",
       "       'HydrogenStandards', 'CNGFillTypeCode', 'CNGPSI', 'CNGVehicleClass',\n",
       "       'LNGVehicleClass'],\n",
       "      dtype='object')"
      ]
     },
     "execution_count": 150,
     "metadata": {},
     "output_type": "execute_result"
    }
   ],
   "source": [
    "# View updated column names\n",
    "alt_df.columns"
   ]
  },
  {
   "cell_type": "markdown",
   "metadata": {},
   "source": [
    "Clean zipcodes by removing whitespace, converting long zipcodes to short ones and convert them into integer format."
   ]
  },
  {
   "cell_type": "code",
   "execution_count": 151,
   "metadata": {},
   "outputs": [],
   "source": [
    "# Clean Zipcodes\n",
    "alt_df.ZIP = alt_df.ZIP.str.strip()"
   ]
  },
  {
   "cell_type": "code",
   "execution_count": 152,
   "metadata": {},
   "outputs": [],
   "source": [
    "# Zip is in string format\n",
    "# Selecting first 5 characters to be the Zip to avoid long postal codes in alt_df\n",
    "alt_df.ZIP = alt_df.ZIP.str[0:5]"
   ]
  },
  {
   "cell_type": "code",
   "execution_count": 153,
   "metadata": {},
   "outputs": [
    {
     "data": {
      "text/plain": [
       "numpy.int64"
      ]
     },
     "execution_count": 153,
     "metadata": {},
     "output_type": "execute_result"
    }
   ],
   "source": [
    "# Convert Zip datatype to be numeric in alt_df\n",
    "alt_df.ZIP = pd.to_numeric(alt_df.ZIP, errors='coerce')\n",
    "# Check for any null values\n",
    "alt_df[alt_df.ZIP.isnull()] \n",
    "# Convert Zip to int64\n",
    "alt_df['ZIP'] = alt_df['ZIP'].fillna(0).astype(numpy.int64)\n",
    "type(alt_df.ZIP[0])"
   ]
  },
  {
   "cell_type": "markdown",
   "metadata": {},
   "source": [
    "Look for invalid zipcodes and drop them from the dataframe."
   ]
  },
  {
   "cell_type": "code",
   "execution_count": 154,
   "metadata": {},
   "outputs": [
    {
     "data": {
      "text/plain": [
       "20977    0\n",
       "21119    0\n",
       "21244    0\n",
       "29824    0\n",
       "Name: ZIP, dtype: int64"
      ]
     },
     "execution_count": 154,
     "metadata": {},
     "output_type": "execute_result"
    }
   ],
   "source": [
    "# Check rows with zipcodes 0\n",
    "alt_df.ZIP[alt_df.ZIP==0]"
   ]
  },
  {
   "cell_type": "code",
   "execution_count": 155,
   "metadata": {},
   "outputs": [],
   "source": [
    "# Remove 4 rows with invalid zipcode\n",
    "alt_df = alt_df[alt_df.ZIP!=0]"
   ]
  },
  {
   "cell_type": "markdown",
   "metadata": {},
   "source": [
    "Drop duplicate rows if any exist and view shape."
   ]
  },
  {
   "cell_type": "code",
   "execution_count": 156,
   "metadata": {},
   "outputs": [],
   "source": [
    "# Remove duplicate rows if any\n",
    "alt_df=alt_df.drop_duplicates()"
   ]
  },
  {
   "cell_type": "code",
   "execution_count": 157,
   "metadata": {
    "scrolled": true
   },
   "outputs": [
    {
     "data": {
      "text/plain": [
       "(29824, 63)"
      ]
     },
     "execution_count": 157,
     "metadata": {},
     "output_type": "execute_result"
    }
   ],
   "source": [
    "# View shape\n",
    "alt_df.shape"
   ]
  },
  {
   "cell_type": "markdown",
   "metadata": {},
   "source": [
    "Create a new dataframe by performing a deep copy from the raw data filtering only rows with a valid open date.\n",
    "We are going to do an anaylsis of the growth of alternative fuel stations across United States, so it is necessary that we have valid open date for the existing stations."
   ]
  },
  {
   "cell_type": "code",
   "execution_count": 158,
   "metadata": {},
   "outputs": [],
   "source": [
    "# Create a new df to hold origingal opendate\n",
    "open_df=alt_df.copy()"
   ]
  },
  {
   "cell_type": "code",
   "execution_count": 159,
   "metadata": {},
   "outputs": [
    {
     "data": {
      "text/plain": [
       "(14420, 63)"
      ]
     },
     "execution_count": 159,
     "metadata": {},
     "output_type": "execute_result"
    }
   ],
   "source": [
    "open_df.OpenDate=open_df.OpenDate.fillna(0)\n",
    "open_df = open_df[open_df.OpenDate!=0]\n",
    "open_df.shape"
   ]
  },
  {
   "cell_type": "markdown",
   "metadata": {},
   "source": [
    "Convert the date fields to pandas datetime format."
   ]
  },
  {
   "cell_type": "code",
   "execution_count": 160,
   "metadata": {},
   "outputs": [],
   "source": [
    "# Convert Open Date from string to pandas datetime\n",
    "alt_df.OpenDate= pd.to_datetime(alt_df.OpenDate)\n",
    "open_df.OpenDate=pd.to_datetime(open_df.OpenDate)\n",
    "alt_df.DateLastConfirmed= pd.to_datetime(alt_df.DateLastConfirmed)"
   ]
  },
  {
   "cell_type": "code",
   "execution_count": 161,
   "metadata": {},
   "outputs": [],
   "source": [
    "# Fill OpenDate null values to contain DateLastConfirmed\n",
    "alt_df.OpenDate=alt_df.OpenDate.fillna(alt_df.DateLastConfirmed)"
   ]
  },
  {
   "cell_type": "markdown",
   "metadata": {},
   "source": [
    "Create a new column for the Year the station was opened by retrieving the year from the open date.    \n",
    "Convert the OpenYear column to contain numeric values."
   ]
  },
  {
   "cell_type": "code",
   "execution_count": 162,
   "metadata": {},
   "outputs": [],
   "source": [
    "# Function to get year from dateAdded\n",
    "def get_year(dt):\n",
    "    return dt.year"
   ]
  },
  {
   "cell_type": "code",
   "execution_count": 163,
   "metadata": {},
   "outputs": [],
   "source": [
    "# Add a new column in the alt_df to include the year it was opened\n",
    "alt_df['OpenYear'] = alt_df.OpenDate.map(get_year)\n",
    "open_df['OpenYear']=open_df.OpenDate.map(get_year)"
   ]
  },
  {
   "cell_type": "code",
   "execution_count": 164,
   "metadata": {},
   "outputs": [],
   "source": [
    "# Convert OpenYear to integer\n",
    "alt_df.OpenYear = pd.to_numeric(alt_df.OpenYear).fillna(0).astype(int)\n",
    "open_df.OpenYear = pd.to_numeric(open_df.OpenYear).fillna(0).astype(int)"
   ]
  },
  {
   "cell_type": "markdown",
   "metadata": {},
   "source": [
    "Select only required fields from the raw data and save as new dataframe containing the station ID, FuelTypeCode, StationName, StreetAddress, IntersectionDirections, City, State, ZIP, GeocodeStatus, Latitude, Longitude, Country, OpenDate and OpenYear."
   ]
  },
  {
   "cell_type": "code",
   "execution_count": 165,
   "metadata": {},
   "outputs": [],
   "source": [
    "# Select required columns and create new dataframe alt_fuels_df\n",
    "alt_fuels_df = alt_df[['ID','FuelTypeCode','StationName', 'StreetAddress',\n",
    "       'IntersectionDirections', 'City', 'State', 'ZIP','GeocodeStatus', 'Latitude',\n",
    "       'Longitude','OpenDate','Country','OpenYear']]\n",
    "open_fuels_df = open_df[['ID','FuelTypeCode','StationName', 'StreetAddress',\n",
    "       'IntersectionDirections', 'City', 'State', 'ZIP','GeocodeStatus', 'Latitude',\n",
    "       'Longitude','OpenDate','Country','OpenYear']]"
   ]
  },
  {
   "cell_type": "code",
   "execution_count": 166,
   "metadata": {},
   "outputs": [
    {
     "data": {
      "text/html": [
       "<div>\n",
       "<style scoped>\n",
       "    .dataframe tbody tr th:only-of-type {\n",
       "        vertical-align: middle;\n",
       "    }\n",
       "\n",
       "    .dataframe tbody tr th {\n",
       "        vertical-align: top;\n",
       "    }\n",
       "\n",
       "    .dataframe thead th {\n",
       "        text-align: right;\n",
       "    }\n",
       "</style>\n",
       "<table border=\"1\" class=\"dataframe\">\n",
       "  <thead>\n",
       "    <tr style=\"text-align: right;\">\n",
       "      <th></th>\n",
       "      <th>ID</th>\n",
       "      <th>FuelTypeCode</th>\n",
       "      <th>StationName</th>\n",
       "      <th>StreetAddress</th>\n",
       "      <th>IntersectionDirections</th>\n",
       "      <th>City</th>\n",
       "      <th>State</th>\n",
       "      <th>ZIP</th>\n",
       "      <th>GeocodeStatus</th>\n",
       "      <th>Latitude</th>\n",
       "      <th>Longitude</th>\n",
       "      <th>OpenDate</th>\n",
       "      <th>Country</th>\n",
       "      <th>OpenYear</th>\n",
       "    </tr>\n",
       "  </thead>\n",
       "  <tbody>\n",
       "    <tr>\n",
       "      <th>0</th>\n",
       "      <td>42</td>\n",
       "      <td>CNG</td>\n",
       "      <td>PS Energy - Atlanta</td>\n",
       "      <td>340 Whitehall St</td>\n",
       "      <td>From I-7585 N, exit 91 to Central Ave, left on...</td>\n",
       "      <td>Atlanta</td>\n",
       "      <td>GA</td>\n",
       "      <td>30303</td>\n",
       "      <td>200-8</td>\n",
       "      <td>33.745843</td>\n",
       "      <td>-84.398837</td>\n",
       "      <td>1994-07-15</td>\n",
       "      <td>US</td>\n",
       "      <td>1994</td>\n",
       "    </tr>\n",
       "    <tr>\n",
       "      <th>1</th>\n",
       "      <td>72</td>\n",
       "      <td>CNG</td>\n",
       "      <td>Clean Energy - Texas Department of Transportation</td>\n",
       "      <td>7721A Washington St</td>\n",
       "      <td>I-10, Washington Ave exit, 1.5 blocks to the s...</td>\n",
       "      <td>Houston</td>\n",
       "      <td>TX</td>\n",
       "      <td>77007</td>\n",
       "      <td>200-9</td>\n",
       "      <td>29.779918</td>\n",
       "      <td>-95.435385</td>\n",
       "      <td>1996-12-15</td>\n",
       "      <td>US</td>\n",
       "      <td>1996</td>\n",
       "    </tr>\n",
       "    <tr>\n",
       "      <th>2</th>\n",
       "      <td>73</td>\n",
       "      <td>CNG</td>\n",
       "      <td>Arkansas Oklahoma Gas Corp</td>\n",
       "      <td>2100 S Waldron Rd</td>\n",
       "      <td>NaN</td>\n",
       "      <td>Fort Smith</td>\n",
       "      <td>AR</td>\n",
       "      <td>72903</td>\n",
       "      <td>200-9</td>\n",
       "      <td>35.362213</td>\n",
       "      <td>-94.375338</td>\n",
       "      <td>1997-01-01</td>\n",
       "      <td>US</td>\n",
       "      <td>1997</td>\n",
       "    </tr>\n",
       "    <tr>\n",
       "      <th>3</th>\n",
       "      <td>81</td>\n",
       "      <td>CNG</td>\n",
       "      <td>Clean Energy - Logan International Airport</td>\n",
       "      <td>14 Cottage St</td>\n",
       "      <td>From Route 1, take the first exit after Callah...</td>\n",
       "      <td>Boston</td>\n",
       "      <td>MA</td>\n",
       "      <td>2128</td>\n",
       "      <td>200-9</td>\n",
       "      <td>42.366120</td>\n",
       "      <td>-71.036737</td>\n",
       "      <td>1996-11-15</td>\n",
       "      <td>US</td>\n",
       "      <td>1996</td>\n",
       "    </tr>\n",
       "    <tr>\n",
       "      <th>4</th>\n",
       "      <td>83</td>\n",
       "      <td>CNG</td>\n",
       "      <td>Clean Energy - West Roxbury - National Grid</td>\n",
       "      <td>201 Rivermoor St</td>\n",
       "      <td>NaN</td>\n",
       "      <td>West Roxbury</td>\n",
       "      <td>MA</td>\n",
       "      <td>2132</td>\n",
       "      <td>200-9</td>\n",
       "      <td>42.279048</td>\n",
       "      <td>-71.182767</td>\n",
       "      <td>1996-11-15</td>\n",
       "      <td>US</td>\n",
       "      <td>1996</td>\n",
       "    </tr>\n",
       "  </tbody>\n",
       "</table>\n",
       "</div>"
      ],
      "text/plain": [
       "   ID FuelTypeCode                                        StationName  \\\n",
       "0  42          CNG                                PS Energy - Atlanta   \n",
       "1  72          CNG  Clean Energy - Texas Department of Transportation   \n",
       "2  73          CNG                         Arkansas Oklahoma Gas Corp   \n",
       "3  81          CNG         Clean Energy - Logan International Airport   \n",
       "4  83          CNG        Clean Energy - West Roxbury - National Grid   \n",
       "\n",
       "         StreetAddress                             IntersectionDirections  \\\n",
       "0     340 Whitehall St  From I-7585 N, exit 91 to Central Ave, left on...   \n",
       "1  7721A Washington St  I-10, Washington Ave exit, 1.5 blocks to the s...   \n",
       "2    2100 S Waldron Rd                                                NaN   \n",
       "3        14 Cottage St  From Route 1, take the first exit after Callah...   \n",
       "4     201 Rivermoor St                                                NaN   \n",
       "\n",
       "           City State    ZIP GeocodeStatus   Latitude  Longitude   OpenDate  \\\n",
       "0       Atlanta    GA  30303         200-8  33.745843 -84.398837 1994-07-15   \n",
       "1       Houston    TX  77007         200-9  29.779918 -95.435385 1996-12-15   \n",
       "2    Fort Smith    AR  72903         200-9  35.362213 -94.375338 1997-01-01   \n",
       "3        Boston    MA   2128         200-9  42.366120 -71.036737 1996-11-15   \n",
       "4  West Roxbury    MA   2132         200-9  42.279048 -71.182767 1996-11-15   \n",
       "\n",
       "  Country  OpenYear  \n",
       "0      US      1994  \n",
       "1      US      1996  \n",
       "2      US      1997  \n",
       "3      US      1996  \n",
       "4      US      1996  "
      ]
     },
     "execution_count": 166,
     "metadata": {},
     "output_type": "execute_result"
    }
   ],
   "source": [
    "alt_fuels_df.head()"
   ]
  },
  {
   "cell_type": "code",
   "execution_count": 167,
   "metadata": {},
   "outputs": [
    {
     "data": {
      "text/plain": [
       "(29824, 14)"
      ]
     },
     "execution_count": 167,
     "metadata": {},
     "output_type": "execute_result"
    }
   ],
   "source": [
    "# View shape\n",
    "alt_fuels_df.shape"
   ]
  },
  {
   "cell_type": "code",
   "execution_count": 168,
   "metadata": {
    "scrolled": false
   },
   "outputs": [
    {
     "data": {
      "text/plain": [
       "Index(['ID', 'FuelTypeCode', 'StationName', 'StreetAddress',\n",
       "       'IntersectionDirections', 'City', 'State', 'ZIP', 'GeocodeStatus',\n",
       "       'Latitude', 'Longitude', 'OpenDate', 'Country', 'OpenYear'],\n",
       "      dtype='object')"
      ]
     },
     "execution_count": 168,
     "metadata": {},
     "output_type": "execute_result"
    }
   ],
   "source": [
    "# View columns\n",
    "alt_fuels_df.columns"
   ]
  },
  {
   "cell_type": "markdown",
   "metadata": {},
   "source": [
    "Check for outliers for Latitude and Longitude. "
   ]
  },
  {
   "cell_type": "code",
   "execution_count": 169,
   "metadata": {},
   "outputs": [
    {
     "data": {
      "image/png": "[encoded data removed]",
      "text/plain": [
       "<Figure size 432x288 with 2 Axes>"
      ]
     },
     "metadata": {
      "needs_background": "light"
     },
     "output_type": "display_data"
    }
   ],
   "source": [
    "# Create a box plot to check outliers \n",
    "fig=plt.figure()\n",
    "plt.subplot(2,2,1)\n",
    "alt_fuels_df.Latitude.plot(kind=\"box\")\n",
    "plt.subplot(2,2,2)\n",
    "alt_fuels_df.Longitude.plot(kind=\"box\")\n",
    "plt.tight_layout()"
   ]
  },
  {
   "cell_type": "markdown",
   "metadata": {},
   "source": [
    "From the boxplots, we can see that there are few outliers with Latitude and Logitude of 0 also. We can drop those rows which will enable accurate mapping plots."
   ]
  },
  {
   "cell_type": "code",
   "execution_count": 171,
   "metadata": {},
   "outputs": [],
   "source": [
    "#drop outliers\n",
    "alt_fuels_df = alt_fuels_df[alt_fuels_df.Longitude<-50]\n",
    "open_fuels_df = open_fuels_df[open_fuels_df.Longitude<-50]"
   ]
  },
  {
   "cell_type": "markdown",
   "metadata": {},
   "source": [
    "Save it to new csv files for future use to perform Exploratory Data Analysis and ML. "
   ]
  },
  {
   "cell_type": "code",
   "execution_count": 54,
   "metadata": {},
   "outputs": [],
   "source": [
    "# Save it to csv\n",
    "alt_fuels_df.to_csv('alt_fuels.csv')\n",
    "open_fuels_df.to_csv('open_fuels.csv')"
   ]
  },
  {
   "cell_type": "markdown",
   "metadata": {},
   "source": [
    "We saved as two files, alt_fuels.csv containing data with all rows and open_fuels.csv containing only rows with valid OpenDate, Latitude and Longitude."
   ]
  },
  {
   "cell_type": "markdown",
   "metadata": {},
   "source": [
    "## Alternative Fuels equipped Vehicle Data"
   ]
  },
  {
   "cell_type": "code",
   "execution_count": 172,
   "metadata": {},
   "outputs": [
    {
     "data": {
      "text/plain": [
       "Index(['FuelType', '2004', '2005', '2006', '2007', '2008', '2009', '2010',\n",
       "       '2011', '2012', '2013', '2014', '2015', '2016', '2017'],\n",
       "      dtype='object')"
      ]
     },
     "execution_count": 172,
     "metadata": {},
     "output_type": "execute_result"
    }
   ],
   "source": [
    "# View Columns\n",
    "veh_sales_df.columns"
   ]
  },
  {
   "cell_type": "code",
   "execution_count": 173,
   "metadata": {
    "scrolled": true
   },
   "outputs": [
    {
     "data": {
      "text/html": [
       "<div>\n",
       "<style scoped>\n",
       "    .dataframe tbody tr th:only-of-type {\n",
       "        vertical-align: middle;\n",
       "    }\n",
       "\n",
       "    .dataframe tbody tr th {\n",
       "        vertical-align: top;\n",
       "    }\n",
       "\n",
       "    .dataframe thead th {\n",
       "        text-align: right;\n",
       "    }\n",
       "</style>\n",
       "<table border=\"1\" class=\"dataframe\">\n",
       "  <thead>\n",
       "    <tr style=\"text-align: right;\">\n",
       "      <th></th>\n",
       "      <th>FuelType</th>\n",
       "      <th>2004</th>\n",
       "      <th>2005</th>\n",
       "      <th>2006</th>\n",
       "      <th>2007</th>\n",
       "      <th>2008</th>\n",
       "      <th>2009</th>\n",
       "      <th>2010</th>\n",
       "      <th>2011</th>\n",
       "      <th>2012</th>\n",
       "      <th>2013</th>\n",
       "      <th>2014</th>\n",
       "      <th>2015</th>\n",
       "      <th>2016</th>\n",
       "      <th>2017</th>\n",
       "    </tr>\n",
       "  </thead>\n",
       "  <tbody>\n",
       "    <tr>\n",
       "      <th>0</th>\n",
       "      <td>E85</td>\n",
       "      <td>47643</td>\n",
       "      <td>72899</td>\n",
       "      <td>221834</td>\n",
       "      <td>385671</td>\n",
       "      <td>524169</td>\n",
       "      <td>642520</td>\n",
       "      <td>403981</td>\n",
       "      <td>479706</td>\n",
       "      <td>197187</td>\n",
       "      <td>259337</td>\n",
       "      <td>275508</td>\n",
       "      <td>271996</td>\n",
       "      <td>457817</td>\n",
       "      <td>327865</td>\n",
       "    </tr>\n",
       "    <tr>\n",
       "      <th>1</th>\n",
       "      <td>ELEC</td>\n",
       "      <td>10674</td>\n",
       "      <td>18553</td>\n",
       "      <td>43886</td>\n",
       "      <td>81987</td>\n",
       "      <td>101954</td>\n",
       "      <td>107585</td>\n",
       "      <td>30613</td>\n",
       "      <td>50503</td>\n",
       "      <td>141406</td>\n",
       "      <td>83339</td>\n",
       "      <td>82834</td>\n",
       "      <td>94330</td>\n",
       "      <td>129827</td>\n",
       "      <td>178011</td>\n",
       "    </tr>\n",
       "    <tr>\n",
       "      <th>2</th>\n",
       "      <td>BD</td>\n",
       "      <td>31922</td>\n",
       "      <td>52275</td>\n",
       "      <td>91584</td>\n",
       "      <td>98785</td>\n",
       "      <td>17222</td>\n",
       "      <td>2814</td>\n",
       "      <td>88726</td>\n",
       "      <td>99347</td>\n",
       "      <td>103106</td>\n",
       "      <td>98028</td>\n",
       "      <td>130540</td>\n",
       "      <td>189823</td>\n",
       "      <td>160763</td>\n",
       "      <td>150695</td>\n",
       "    </tr>\n",
       "    <tr>\n",
       "      <th>3</th>\n",
       "      <td>CNG</td>\n",
       "      <td>76257</td>\n",
       "      <td>49271</td>\n",
       "      <td>57458</td>\n",
       "      <td>55021</td>\n",
       "      <td>51121</td>\n",
       "      <td>44317</td>\n",
       "      <td>42911</td>\n",
       "      <td>48157</td>\n",
       "      <td>59521</td>\n",
       "      <td>79616</td>\n",
       "      <td>68479</td>\n",
       "      <td>107283</td>\n",
       "      <td>98388</td>\n",
       "      <td>97271</td>\n",
       "    </tr>\n",
       "    <tr>\n",
       "      <th>4</th>\n",
       "      <td>LPG</td>\n",
       "      <td>31338</td>\n",
       "      <td>21117</td>\n",
       "      <td>25543</td>\n",
       "      <td>23628</td>\n",
       "      <td>22260</td>\n",
       "      <td>7937</td>\n",
       "      <td>13196</td>\n",
       "      <td>18793</td>\n",
       "      <td>16501</td>\n",
       "      <td>35554</td>\n",
       "      <td>17404</td>\n",
       "      <td>22762</td>\n",
       "      <td>23648</td>\n",
       "      <td>34753</td>\n",
       "    </tr>\n",
       "  </tbody>\n",
       "</table>\n",
       "</div>"
      ],
      "text/plain": [
       "  FuelType   2004   2005    2006    2007    2008    2009    2010    2011  \\\n",
       "0      E85  47643  72899  221834  385671  524169  642520  403981  479706   \n",
       "1     ELEC  10674  18553   43886   81987  101954  107585   30613   50503   \n",
       "2       BD  31922  52275   91584   98785   17222    2814   88726   99347   \n",
       "3      CNG  76257  49271   57458   55021   51121   44317   42911   48157   \n",
       "4      LPG  31338  21117   25543   23628   22260    7937   13196   18793   \n",
       "\n",
       "     2012    2013    2014    2015    2016    2017  \n",
       "0  197187  259337  275508  271996  457817  327865  \n",
       "1  141406   83339   82834   94330  129827  178011  \n",
       "2  103106   98028  130540  189823  160763  150695  \n",
       "3   59521   79616   68479  107283   98388   97271  \n",
       "4   16501   35554   17404   22762   23648   34753  "
      ]
     },
     "execution_count": 173,
     "metadata": {},
     "output_type": "execute_result"
    }
   ],
   "source": [
    "# View data frame\n",
    "veh_sales_df.head()"
   ]
  },
  {
   "cell_type": "markdown",
   "metadata": {},
   "source": [
    "The dataframe contains Year as the column header. We want Fuel Type to be the column header.      \n",
    "We transpose the dataframe and make first row as the column header to contain Fuel Types as the column names."
   ]
  },
  {
   "cell_type": "code",
   "execution_count": 174,
   "metadata": {},
   "outputs": [],
   "source": [
    "# Transpose rows and columns\n",
    "veh_sales_df = veh_sales_df.T"
   ]
  },
  {
   "cell_type": "code",
   "execution_count": 175,
   "metadata": {},
   "outputs": [
    {
     "data": {
      "text/html": [
       "<div>\n",
       "<style scoped>\n",
       "    .dataframe tbody tr th:only-of-type {\n",
       "        vertical-align: middle;\n",
       "    }\n",
       "\n",
       "    .dataframe tbody tr th {\n",
       "        vertical-align: top;\n",
       "    }\n",
       "\n",
       "    .dataframe thead th {\n",
       "        text-align: right;\n",
       "    }\n",
       "</style>\n",
       "<table border=\"1\" class=\"dataframe\">\n",
       "  <thead>\n",
       "    <tr style=\"text-align: right;\">\n",
       "      <th></th>\n",
       "      <th>0</th>\n",
       "      <th>1</th>\n",
       "      <th>2</th>\n",
       "      <th>3</th>\n",
       "      <th>4</th>\n",
       "      <th>5</th>\n",
       "      <th>6</th>\n",
       "      <th>7</th>\n",
       "      <th>8</th>\n",
       "    </tr>\n",
       "  </thead>\n",
       "  <tbody>\n",
       "    <tr>\n",
       "      <th>FuelType</th>\n",
       "      <td>E85</td>\n",
       "      <td>ELEC</td>\n",
       "      <td>BD</td>\n",
       "      <td>CNG</td>\n",
       "      <td>LPG</td>\n",
       "      <td>LNG</td>\n",
       "      <td>HY</td>\n",
       "      <td>PEVs</td>\n",
       "      <td>Total</td>\n",
       "    </tr>\n",
       "    <tr>\n",
       "      <th>2004</th>\n",
       "      <td>47643</td>\n",
       "      <td>10674</td>\n",
       "      <td>31922</td>\n",
       "      <td>76257</td>\n",
       "      <td>31338</td>\n",
       "      <td>0</td>\n",
       "      <td>23</td>\n",
       "      <td>9241</td>\n",
       "      <td>207098</td>\n",
       "    </tr>\n",
       "    <tr>\n",
       "      <th>2005</th>\n",
       "      <td>72899</td>\n",
       "      <td>18553</td>\n",
       "      <td>52275</td>\n",
       "      <td>49271</td>\n",
       "      <td>21117</td>\n",
       "      <td>1873</td>\n",
       "      <td>42</td>\n",
       "      <td>7464</td>\n",
       "      <td>223494</td>\n",
       "    </tr>\n",
       "    <tr>\n",
       "      <th>2006</th>\n",
       "      <td>221834</td>\n",
       "      <td>43886</td>\n",
       "      <td>91584</td>\n",
       "      <td>57458</td>\n",
       "      <td>25543</td>\n",
       "      <td>2271</td>\n",
       "      <td>72</td>\n",
       "      <td>9481</td>\n",
       "      <td>452129</td>\n",
       "    </tr>\n",
       "    <tr>\n",
       "      <th>2007</th>\n",
       "      <td>385671</td>\n",
       "      <td>81987</td>\n",
       "      <td>98785</td>\n",
       "      <td>55021</td>\n",
       "      <td>23628</td>\n",
       "      <td>1731</td>\n",
       "      <td>86</td>\n",
       "      <td>5895</td>\n",
       "      <td>652804</td>\n",
       "    </tr>\n",
       "  </tbody>\n",
       "</table>\n",
       "</div>"
      ],
      "text/plain": [
       "               0      1      2      3      4     5   6     7       8\n",
       "FuelType     E85   ELEC     BD    CNG    LPG   LNG  HY  PEVs   Total\n",
       "2004       47643  10674  31922  76257  31338     0  23  9241  207098\n",
       "2005       72899  18553  52275  49271  21117  1873  42  7464  223494\n",
       "2006      221834  43886  91584  57458  25543  2271  72  9481  452129\n",
       "2007      385671  81987  98785  55021  23628  1731  86  5895  652804"
      ]
     },
     "execution_count": 175,
     "metadata": {},
     "output_type": "execute_result"
    }
   ],
   "source": [
    "# View data frame\n",
    "veh_sales_df.head()"
   ]
  },
  {
   "cell_type": "code",
   "execution_count": 176,
   "metadata": {},
   "outputs": [],
   "source": [
    "# Make first row as column header\n",
    "veh_sales_df=veh_sales_df.rename(columns=veh_sales_df.iloc[0]).drop(veh_sales_df.index[0])"
   ]
  },
  {
   "cell_type": "code",
   "execution_count": 177,
   "metadata": {
    "scrolled": true
   },
   "outputs": [
    {
     "data": {
      "text/html": [
       "<div>\n",
       "<style scoped>\n",
       "    .dataframe tbody tr th:only-of-type {\n",
       "        vertical-align: middle;\n",
       "    }\n",
       "\n",
       "    .dataframe tbody tr th {\n",
       "        vertical-align: top;\n",
       "    }\n",
       "\n",
       "    .dataframe thead th {\n",
       "        text-align: right;\n",
       "    }\n",
       "</style>\n",
       "<table border=\"1\" class=\"dataframe\">\n",
       "  <thead>\n",
       "    <tr style=\"text-align: right;\">\n",
       "      <th></th>\n",
       "      <th>E85</th>\n",
       "      <th>ELEC</th>\n",
       "      <th>BD</th>\n",
       "      <th>CNG</th>\n",
       "      <th>LPG</th>\n",
       "      <th>LNG</th>\n",
       "      <th>HY</th>\n",
       "      <th>PEVs</th>\n",
       "      <th>Total</th>\n",
       "    </tr>\n",
       "  </thead>\n",
       "  <tbody>\n",
       "    <tr>\n",
       "      <th>2004</th>\n",
       "      <td>47643</td>\n",
       "      <td>10674</td>\n",
       "      <td>31922</td>\n",
       "      <td>76257</td>\n",
       "      <td>31338</td>\n",
       "      <td>0</td>\n",
       "      <td>23</td>\n",
       "      <td>9241</td>\n",
       "      <td>207098</td>\n",
       "    </tr>\n",
       "    <tr>\n",
       "      <th>2005</th>\n",
       "      <td>72899</td>\n",
       "      <td>18553</td>\n",
       "      <td>52275</td>\n",
       "      <td>49271</td>\n",
       "      <td>21117</td>\n",
       "      <td>1873</td>\n",
       "      <td>42</td>\n",
       "      <td>7464</td>\n",
       "      <td>223494</td>\n",
       "    </tr>\n",
       "    <tr>\n",
       "      <th>2006</th>\n",
       "      <td>221834</td>\n",
       "      <td>43886</td>\n",
       "      <td>91584</td>\n",
       "      <td>57458</td>\n",
       "      <td>25543</td>\n",
       "      <td>2271</td>\n",
       "      <td>72</td>\n",
       "      <td>9481</td>\n",
       "      <td>452129</td>\n",
       "    </tr>\n",
       "    <tr>\n",
       "      <th>2007</th>\n",
       "      <td>385671</td>\n",
       "      <td>81987</td>\n",
       "      <td>98785</td>\n",
       "      <td>55021</td>\n",
       "      <td>23628</td>\n",
       "      <td>1731</td>\n",
       "      <td>86</td>\n",
       "      <td>5895</td>\n",
       "      <td>652804</td>\n",
       "    </tr>\n",
       "    <tr>\n",
       "      <th>2008</th>\n",
       "      <td>524169</td>\n",
       "      <td>101954</td>\n",
       "      <td>17222</td>\n",
       "      <td>51121</td>\n",
       "      <td>22260</td>\n",
       "      <td>2053</td>\n",
       "      <td>75</td>\n",
       "      <td>14135</td>\n",
       "      <td>732989</td>\n",
       "    </tr>\n",
       "  </tbody>\n",
       "</table>\n",
       "</div>"
      ],
      "text/plain": [
       "         E85    ELEC     BD    CNG    LPG   LNG  HY   PEVs   Total\n",
       "2004   47643   10674  31922  76257  31338     0  23   9241  207098\n",
       "2005   72899   18553  52275  49271  21117  1873  42   7464  223494\n",
       "2006  221834   43886  91584  57458  25543  2271  72   9481  452129\n",
       "2007  385671   81987  98785  55021  23628  1731  86   5895  652804\n",
       "2008  524169  101954  17222  51121  22260  2053  75  14135  732989"
      ]
     },
     "execution_count": 177,
     "metadata": {},
     "output_type": "execute_result"
    }
   ],
   "source": [
    "# View data frame\n",
    "veh_sales_df.head()"
   ]
  },
  {
   "cell_type": "markdown",
   "metadata": {},
   "source": [
    "PEVs are electric vehicles. Let us keep all electric vehicles undert one Fuel Type ELEC.    \n",
    "Add the number of PEVs to the number of ELEC vehicles and group them as one Fuel Type and drop the PEVs column."
   ]
  },
  {
   "cell_type": "code",
   "execution_count": 178,
   "metadata": {},
   "outputs": [],
   "source": [
    "# PEVs are electric vehicles too, so combine with ELEC\n",
    "veh_sales_df['ELEC']=veh_sales_df.ELEC + veh_sales_df.PEVs"
   ]
  },
  {
   "cell_type": "code",
   "execution_count": 179,
   "metadata": {},
   "outputs": [],
   "source": [
    "veh_sales_df.drop('PEVs', axis=1, inplace=True) "
   ]
  },
  {
   "cell_type": "markdown",
   "metadata": {},
   "source": [
    "Set the index of the dataframe to Year."
   ]
  },
  {
   "cell_type": "code",
   "execution_count": 180,
   "metadata": {
    "scrolled": true
   },
   "outputs": [
    {
     "data": {
      "text/html": [
       "<div>\n",
       "<style scoped>\n",
       "    .dataframe tbody tr th:only-of-type {\n",
       "        vertical-align: middle;\n",
       "    }\n",
       "\n",
       "    .dataframe tbody tr th {\n",
       "        vertical-align: top;\n",
       "    }\n",
       "\n",
       "    .dataframe thead th {\n",
       "        text-align: right;\n",
       "    }\n",
       "</style>\n",
       "<table border=\"1\" class=\"dataframe\">\n",
       "  <thead>\n",
       "    <tr style=\"text-align: right;\">\n",
       "      <th></th>\n",
       "      <th>E85</th>\n",
       "      <th>ELEC</th>\n",
       "      <th>BD</th>\n",
       "      <th>CNG</th>\n",
       "      <th>LPG</th>\n",
       "      <th>LNG</th>\n",
       "      <th>HY</th>\n",
       "      <th>Total</th>\n",
       "    </tr>\n",
       "    <tr>\n",
       "      <th>Year</th>\n",
       "      <th></th>\n",
       "      <th></th>\n",
       "      <th></th>\n",
       "      <th></th>\n",
       "      <th></th>\n",
       "      <th></th>\n",
       "      <th></th>\n",
       "      <th></th>\n",
       "    </tr>\n",
       "  </thead>\n",
       "  <tbody>\n",
       "    <tr>\n",
       "      <th>2004</th>\n",
       "      <td>47643</td>\n",
       "      <td>19915</td>\n",
       "      <td>31922</td>\n",
       "      <td>76257</td>\n",
       "      <td>31338</td>\n",
       "      <td>0</td>\n",
       "      <td>23</td>\n",
       "      <td>207098</td>\n",
       "    </tr>\n",
       "    <tr>\n",
       "      <th>2005</th>\n",
       "      <td>72899</td>\n",
       "      <td>26017</td>\n",
       "      <td>52275</td>\n",
       "      <td>49271</td>\n",
       "      <td>21117</td>\n",
       "      <td>1873</td>\n",
       "      <td>42</td>\n",
       "      <td>223494</td>\n",
       "    </tr>\n",
       "    <tr>\n",
       "      <th>2006</th>\n",
       "      <td>221834</td>\n",
       "      <td>53367</td>\n",
       "      <td>91584</td>\n",
       "      <td>57458</td>\n",
       "      <td>25543</td>\n",
       "      <td>2271</td>\n",
       "      <td>72</td>\n",
       "      <td>452129</td>\n",
       "    </tr>\n",
       "    <tr>\n",
       "      <th>2007</th>\n",
       "      <td>385671</td>\n",
       "      <td>87882</td>\n",
       "      <td>98785</td>\n",
       "      <td>55021</td>\n",
       "      <td>23628</td>\n",
       "      <td>1731</td>\n",
       "      <td>86</td>\n",
       "      <td>652804</td>\n",
       "    </tr>\n",
       "    <tr>\n",
       "      <th>2008</th>\n",
       "      <td>524169</td>\n",
       "      <td>116089</td>\n",
       "      <td>17222</td>\n",
       "      <td>51121</td>\n",
       "      <td>22260</td>\n",
       "      <td>2053</td>\n",
       "      <td>75</td>\n",
       "      <td>732989</td>\n",
       "    </tr>\n",
       "  </tbody>\n",
       "</table>\n",
       "</div>"
      ],
      "text/plain": [
       "         E85    ELEC     BD    CNG    LPG   LNG  HY   Total\n",
       "Year                                                       \n",
       "2004   47643   19915  31922  76257  31338     0  23  207098\n",
       "2005   72899   26017  52275  49271  21117  1873  42  223494\n",
       "2006  221834   53367  91584  57458  25543  2271  72  452129\n",
       "2007  385671   87882  98785  55021  23628  1731  86  652804\n",
       "2008  524169  116089  17222  51121  22260  2053  75  732989"
      ]
     },
     "execution_count": 180,
     "metadata": {},
     "output_type": "execute_result"
    }
   ],
   "source": [
    "veh_sales_df.index.name = 'Year'\n",
    "veh_sales_df.head()"
   ]
  },
  {
   "cell_type": "markdown",
   "metadata": {},
   "source": [
    "Save it to new csv file for future use to perform Exploratory Data Analysis and ML. "
   ]
  },
  {
   "cell_type": "code",
   "execution_count": 65,
   "metadata": {},
   "outputs": [],
   "source": [
    "veh_sales_df.to_csv('veh_sales.csv')"
   ]
  },
  {
   "cell_type": "code",
   "execution_count": null,
   "metadata": {},
   "outputs": [],
   "source": []
  },
  {
   "cell_type": "code",
   "execution_count": null,
   "metadata": {},
   "outputs": [],
   "source": []
  }
 ],
 "metadata": {
  "kernelspec": {
   "display_name": "Python 3",
   "language": "python",
   "name": "python3"
  },
  "language_info": {
   "codemirror_mode": {
    "name": "ipython",
    "version": 3
   },
   "file_extension": ".py",
   "mimetype": "text/x-python",
   "name": "python",
   "nbconvert_exporter": "python",
   "pygments_lexer": "ipython3",
   "version": "3.7.3"
  }
 },
 "nbformat": 4,
 "nbformat_minor": 2
}
